{
 "cells": [
  {
   "cell_type": "code",
   "execution_count": null,
   "metadata": {},
   "outputs": [],
   "source": [
    "import pypdfium2 as pdfium\n",
    "\n",
    "pdf = pdfium.PdfDocument(\"SIMPLIFIED_ESTIMATE_BY_MAX_FAJARDO.pdf\")\n",
    "n_pages = len(pdf)\n",
    "for page_number in range(n_pages):\n",
    "    page = pdf.get_page(page_number)\n",
    "    pil_image = page.render().to_pil()\n",
    "    pil_image.save(f\"test_folder/image_{page_number+1}.png\")"
   ]
  },
  {
   "cell_type": "code",
   "execution_count": null,
   "metadata": {},
   "outputs": [],
   "source": []
  }
 ],
 "metadata": {
  "kernelspec": {
   "display_name": "venv",
   "language": "python",
   "name": "python3"
  },
  "language_info": {
   "codemirror_mode": {
    "name": "ipython",
    "version": 3
   },
   "file_extension": ".py",
   "mimetype": "text/x-python",
   "name": "python",
   "nbconvert_exporter": "python",
   "pygments_lexer": "ipython3",
   "version": "3.11.4"
  }
 },
 "nbformat": 4,
 "nbformat_minor": 2
}
