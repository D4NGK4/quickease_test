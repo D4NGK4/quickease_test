{
 "cells": [
  {
   "cell_type": "code",
   "execution_count": null,
   "metadata": {},
   "outputs": [],
   "source": [
    "import pypdfium2 as pdfium\n",
    "\n",
    "pdf = pdfium.PdfDocument(\"SIMPLIFIED_ESTIMATE_BY_MAX_FAJARDO.pdf\")\n",
    "n_pages = len(pdf)\n",
    "for page_number in range(n_pages):\n",
    "    page = pdf.get_page(page_number)\n",
    "    pil_image = page.render().to_pil()\n",
    "    pil_image.save(f\"test_folder/image_{page_number+1}.png\")"
   ]
  },
  {
   "cell_type": "code",
   "execution_count": null,
   "metadata": {},
   "outputs": [],
   "source": [
    "import pypdfium2 as pdfium\n",
    "\n",
    "def UploadFile(request):\n",
    "    if request.method == 'POST':\n",
    "        form = UploadFileForm(request.POST, request.FILES)\n",
    "        file = request.FILES['file']\n",
    "        pdf = pdfium.PdfDocument(file)\n",
    "        n_pages = len(pdf)\n",
    "        for page_number in range(n_pages):\n",
    "            page = pdf.get_page(page_number)\n",
    "            pil_image = page.render().to_pil()\n",
    "            pil_image.save(f\"test_folder/image_{page_number+1}.png\")\n",
    "        \n",
    "    else:\n",
    "        form = UploadFileForm()\n",
    "    return render(request, '../templates/uploads.html', {'form': form})\n",
    "\n",
    "from django import forms\n",
    "\n",
    "\n",
    "class UploadFileForm(forms.Form):\n",
    "    file = forms.FileField()\n",
    "    \n",
    "    \n",
    "from .views import UploadFile\n",
    "path('list/', UploadFile, name='list'),"
   ]
  }
 ],
 "metadata": {
  "kernelspec": {
   "display_name": "venv",
   "language": "python",
   "name": "python3"
  },
  "language_info": {
   "codemirror_mode": {
    "name": "ipython",
    "version": 3
   },
   "file_extension": ".py",
   "mimetype": "text/x-python",
   "name": "python",
   "nbconvert_exporter": "python",
   "pygments_lexer": "ipython3",
   "version": "3.11.4"
  }
 },
 "nbformat": 4,
 "nbformat_minor": 2
}
